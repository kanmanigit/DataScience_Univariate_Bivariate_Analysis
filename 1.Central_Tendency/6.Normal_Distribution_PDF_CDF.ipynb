{
 "cells": [
  {
   "cell_type": "code",
   "execution_count": 1,
   "id": "37c5cfe8-aa0e-4821-a343-724c8bceee99",
   "metadata": {},
   "outputs": [],
   "source": [
    "import pandas as pd\n",
    "import matplotlib.pyplot as plot\n",
    "import numpy as np"
   ]
  },
  {
   "cell_type": "code",
   "execution_count": 2,
   "id": "ded2ba89-dc42-4663-8401-6cb476c049e0",
   "metadata": {},
   "outputs": [],
   "source": [
    "dataset=pd.read_csv(\"pre_placement.csv\")"
   ]
  },
  {
   "cell_type": "code",
   "execution_count": 3,
   "id": "3494a04a-b2e4-4a79-b76f-1b04dd6d7904",
   "metadata": {},
   "outputs": [
    {
     "data": {
      "text/html": [
       "<div>\n",
       "<style scoped>\n",
       "    .dataframe tbody tr th:only-of-type {\n",
       "        vertical-align: middle;\n",
       "    }\n",
       "\n",
       "    .dataframe tbody tr th {\n",
       "        vertical-align: top;\n",
       "    }\n",
       "\n",
       "    .dataframe thead th {\n",
       "        text-align: right;\n",
       "    }\n",
       "</style>\n",
       "<table border=\"1\" class=\"dataframe\">\n",
       "  <thead>\n",
       "    <tr style=\"text-align: right;\">\n",
       "      <th></th>\n",
       "      <th>sl_no</th>\n",
       "      <th>ssc_p</th>\n",
       "      <th>hsc_p</th>\n",
       "      <th>degree_p</th>\n",
       "      <th>etest_p</th>\n",
       "      <th>mba_p</th>\n",
       "      <th>salary</th>\n",
       "      <th>sl_no.1</th>\n",
       "      <th>ssc_p.1</th>\n",
       "      <th>hsc_p.1</th>\n",
       "      <th>degree_p.1</th>\n",
       "      <th>etest_p.1</th>\n",
       "      <th>mba_p.1</th>\n",
       "      <th>salary.1</th>\n",
       "    </tr>\n",
       "  </thead>\n",
       "  <tbody>\n",
       "    <tr>\n",
       "      <th>0</th>\n",
       "      <td>1.0</td>\n",
       "      <td>67.00</td>\n",
       "      <td>91.00</td>\n",
       "      <td>58.00</td>\n",
       "      <td>55.0</td>\n",
       "      <td>58.80</td>\n",
       "      <td>270000.000000</td>\n",
       "      <td>1.0</td>\n",
       "      <td>67.00</td>\n",
       "      <td>91.00</td>\n",
       "      <td>58.00</td>\n",
       "      <td>55.0</td>\n",
       "      <td>58.80</td>\n",
       "      <td>270000.000000</td>\n",
       "    </tr>\n",
       "    <tr>\n",
       "      <th>1</th>\n",
       "      <td>2.0</td>\n",
       "      <td>79.33</td>\n",
       "      <td>78.33</td>\n",
       "      <td>77.48</td>\n",
       "      <td>86.5</td>\n",
       "      <td>66.28</td>\n",
       "      <td>200000.000000</td>\n",
       "      <td>2.0</td>\n",
       "      <td>79.33</td>\n",
       "      <td>78.33</td>\n",
       "      <td>77.48</td>\n",
       "      <td>86.5</td>\n",
       "      <td>66.28</td>\n",
       "      <td>200000.000000</td>\n",
       "    </tr>\n",
       "    <tr>\n",
       "      <th>2</th>\n",
       "      <td>3.0</td>\n",
       "      <td>65.00</td>\n",
       "      <td>68.00</td>\n",
       "      <td>64.00</td>\n",
       "      <td>75.0</td>\n",
       "      <td>57.80</td>\n",
       "      <td>250000.000000</td>\n",
       "      <td>3.0</td>\n",
       "      <td>65.00</td>\n",
       "      <td>68.00</td>\n",
       "      <td>64.00</td>\n",
       "      <td>75.0</td>\n",
       "      <td>57.80</td>\n",
       "      <td>250000.000000</td>\n",
       "    </tr>\n",
       "    <tr>\n",
       "      <th>3</th>\n",
       "      <td>4.0</td>\n",
       "      <td>56.00</td>\n",
       "      <td>52.00</td>\n",
       "      <td>52.00</td>\n",
       "      <td>66.0</td>\n",
       "      <td>59.43</td>\n",
       "      <td>288655.405405</td>\n",
       "      <td>4.0</td>\n",
       "      <td>56.00</td>\n",
       "      <td>52.00</td>\n",
       "      <td>52.00</td>\n",
       "      <td>66.0</td>\n",
       "      <td>59.43</td>\n",
       "      <td>288655.405405</td>\n",
       "    </tr>\n",
       "    <tr>\n",
       "      <th>4</th>\n",
       "      <td>5.0</td>\n",
       "      <td>85.80</td>\n",
       "      <td>73.60</td>\n",
       "      <td>73.30</td>\n",
       "      <td>96.8</td>\n",
       "      <td>55.50</td>\n",
       "      <td>425000.000000</td>\n",
       "      <td>5.0</td>\n",
       "      <td>85.80</td>\n",
       "      <td>73.60</td>\n",
       "      <td>73.30</td>\n",
       "      <td>96.8</td>\n",
       "      <td>55.50</td>\n",
       "      <td>425000.000000</td>\n",
       "    </tr>\n",
       "    <tr>\n",
       "      <th>...</th>\n",
       "      <td>...</td>\n",
       "      <td>...</td>\n",
       "      <td>...</td>\n",
       "      <td>...</td>\n",
       "      <td>...</td>\n",
       "      <td>...</td>\n",
       "      <td>...</td>\n",
       "      <td>...</td>\n",
       "      <td>...</td>\n",
       "      <td>...</td>\n",
       "      <td>...</td>\n",
       "      <td>...</td>\n",
       "      <td>...</td>\n",
       "      <td>...</td>\n",
       "    </tr>\n",
       "    <tr>\n",
       "      <th>210</th>\n",
       "      <td>211.0</td>\n",
       "      <td>80.60</td>\n",
       "      <td>82.00</td>\n",
       "      <td>77.60</td>\n",
       "      <td>91.0</td>\n",
       "      <td>74.49</td>\n",
       "      <td>400000.000000</td>\n",
       "      <td>211.0</td>\n",
       "      <td>80.60</td>\n",
       "      <td>82.00</td>\n",
       "      <td>77.60</td>\n",
       "      <td>91.0</td>\n",
       "      <td>74.49</td>\n",
       "      <td>400000.000000</td>\n",
       "    </tr>\n",
       "    <tr>\n",
       "      <th>211</th>\n",
       "      <td>212.0</td>\n",
       "      <td>58.00</td>\n",
       "      <td>60.00</td>\n",
       "      <td>72.00</td>\n",
       "      <td>74.0</td>\n",
       "      <td>53.62</td>\n",
       "      <td>275000.000000</td>\n",
       "      <td>212.0</td>\n",
       "      <td>58.00</td>\n",
       "      <td>60.00</td>\n",
       "      <td>72.00</td>\n",
       "      <td>74.0</td>\n",
       "      <td>53.62</td>\n",
       "      <td>275000.000000</td>\n",
       "    </tr>\n",
       "    <tr>\n",
       "      <th>212</th>\n",
       "      <td>213.0</td>\n",
       "      <td>67.00</td>\n",
       "      <td>67.00</td>\n",
       "      <td>73.00</td>\n",
       "      <td>59.0</td>\n",
       "      <td>69.72</td>\n",
       "      <td>295000.000000</td>\n",
       "      <td>213.0</td>\n",
       "      <td>67.00</td>\n",
       "      <td>67.00</td>\n",
       "      <td>73.00</td>\n",
       "      <td>59.0</td>\n",
       "      <td>69.72</td>\n",
       "      <td>295000.000000</td>\n",
       "    </tr>\n",
       "    <tr>\n",
       "      <th>213</th>\n",
       "      <td>214.0</td>\n",
       "      <td>74.00</td>\n",
       "      <td>66.00</td>\n",
       "      <td>58.00</td>\n",
       "      <td>70.0</td>\n",
       "      <td>60.23</td>\n",
       "      <td>204000.000000</td>\n",
       "      <td>214.0</td>\n",
       "      <td>74.00</td>\n",
       "      <td>66.00</td>\n",
       "      <td>58.00</td>\n",
       "      <td>70.0</td>\n",
       "      <td>60.23</td>\n",
       "      <td>204000.000000</td>\n",
       "    </tr>\n",
       "    <tr>\n",
       "      <th>214</th>\n",
       "      <td>215.0</td>\n",
       "      <td>62.00</td>\n",
       "      <td>58.00</td>\n",
       "      <td>53.00</td>\n",
       "      <td>89.0</td>\n",
       "      <td>60.22</td>\n",
       "      <td>288655.405405</td>\n",
       "      <td>215.0</td>\n",
       "      <td>62.00</td>\n",
       "      <td>58.00</td>\n",
       "      <td>53.00</td>\n",
       "      <td>89.0</td>\n",
       "      <td>60.22</td>\n",
       "      <td>288655.405405</td>\n",
       "    </tr>\n",
       "  </tbody>\n",
       "</table>\n",
       "<p>215 rows × 14 columns</p>\n",
       "</div>"
      ],
      "text/plain": [
       "     sl_no  ssc_p  hsc_p  degree_p  etest_p  mba_p         salary  sl_no.1  \\\n",
       "0      1.0  67.00  91.00     58.00     55.0  58.80  270000.000000      1.0   \n",
       "1      2.0  79.33  78.33     77.48     86.5  66.28  200000.000000      2.0   \n",
       "2      3.0  65.00  68.00     64.00     75.0  57.80  250000.000000      3.0   \n",
       "3      4.0  56.00  52.00     52.00     66.0  59.43  288655.405405      4.0   \n",
       "4      5.0  85.80  73.60     73.30     96.8  55.50  425000.000000      5.0   \n",
       "..     ...    ...    ...       ...      ...    ...            ...      ...   \n",
       "210  211.0  80.60  82.00     77.60     91.0  74.49  400000.000000    211.0   \n",
       "211  212.0  58.00  60.00     72.00     74.0  53.62  275000.000000    212.0   \n",
       "212  213.0  67.00  67.00     73.00     59.0  69.72  295000.000000    213.0   \n",
       "213  214.0  74.00  66.00     58.00     70.0  60.23  204000.000000    214.0   \n",
       "214  215.0  62.00  58.00     53.00     89.0  60.22  288655.405405    215.0   \n",
       "\n",
       "     ssc_p.1  hsc_p.1  degree_p.1  etest_p.1  mba_p.1       salary.1  \n",
       "0      67.00    91.00       58.00       55.0    58.80  270000.000000  \n",
       "1      79.33    78.33       77.48       86.5    66.28  200000.000000  \n",
       "2      65.00    68.00       64.00       75.0    57.80  250000.000000  \n",
       "3      56.00    52.00       52.00       66.0    59.43  288655.405405  \n",
       "4      85.80    73.60       73.30       96.8    55.50  425000.000000  \n",
       "..       ...      ...         ...        ...      ...            ...  \n",
       "210    80.60    82.00       77.60       91.0    74.49  400000.000000  \n",
       "211    58.00    60.00       72.00       74.0    53.62  275000.000000  \n",
       "212    67.00    67.00       73.00       59.0    69.72  295000.000000  \n",
       "213    74.00    66.00       58.00       70.0    60.23  204000.000000  \n",
       "214    62.00    58.00       53.00       89.0    60.22  288655.405405  \n",
       "\n",
       "[215 rows x 14 columns]"
      ]
     },
     "execution_count": 3,
     "metadata": {},
     "output_type": "execute_result"
    }
   ],
   "source": [
    "dataset"
   ]
  },
  {
   "cell_type": "code",
   "execution_count": 4,
   "id": "da8497d8-5582-439f-bb82-6dded8fa71b8",
   "metadata": {},
   "outputs": [
    {
     "data": {
      "text/plain": [
       "sl_no         0\n",
       "ssc_p         0\n",
       "hsc_p         0\n",
       "degree_p      0\n",
       "etest_p       0\n",
       "mba_p         0\n",
       "salary        0\n",
       "sl_no.1       0\n",
       "ssc_p.1       0\n",
       "hsc_p.1       0\n",
       "degree_p.1    0\n",
       "etest_p.1     0\n",
       "mba_p.1       0\n",
       "salary.1      0\n",
       "dtype: int64"
      ]
     },
     "execution_count": 4,
     "metadata": {},
     "output_type": "execute_result"
    }
   ],
   "source": [
    "dataset.isnull().sum()"
   ]
  },
  {
   "cell_type": "code",
   "execution_count": 5,
   "id": "d1782e9c-03b8-494a-9887-b216e80b8c54",
   "metadata": {},
   "outputs": [
    {
     "name": "stdout",
     "output_type": "stream",
     "text": [
      "The area between range (40,45):0.012462382277261137\n"
     ]
    },
    {
     "name": "stderr",
     "output_type": "stream",
     "text": [
      "/var/folders/1s/70xy4dvs6mn0zqfz6nvhbypw0000gn/T/ipykernel_1410/2320739128.py:7: UserWarning: \n",
      "\n",
      "`distplot` is a deprecated function and will be removed in seaborn v0.14.0.\n",
      "\n",
      "Please adapt your code to use either `displot` (a figure-level function with\n",
      "similar flexibility) or `histplot` (an axes-level function for histograms).\n",
      "\n",
      "For a guide to updating your code to use the new functions, please see\n",
      "https://gist.github.com/mwaskom/de44147ed2974457ad6372750bbe5751\n",
      "\n",
      "  sns.distplot(dataset[\"ssc_p\"],kde=True,kde_kws={\"color\":\"blue\"},color='green')\n"
     ]
    },
    {
     "data": {
      "image/png": "[encoded data removed]",
      "text/plain": [
       "<Figure size 640x480 with 1 Axes>"
      ]
     },
     "metadata": {},
     "output_type": "display_data"
    }
   ],
   "source": [
    "#  Normal distribution calcualtion \n",
    "\n",
    "import seaborn as sns\n",
    "from scipy.stats import norm\n",
    "\n",
    "#sns.distplot(dataset[\"ssc_p\"])\n",
    "sns.distplot(dataset[\"ssc_p\"],kde=True,kde_kws={\"color\":\"blue\"},color='green')\n",
    "start_range=40\n",
    "end_range=45\n",
    "plot.axvline(start_range,color=\"red\")\n",
    "plot.axvline(end_range,color=\"red\")\n",
    "\n",
    "# calculate the parameter Normal distribution....\n",
    "mean=dataset[\"ssc_p\"].mean()\n",
    "std=dataset[\"ssc_p\"].std()\n",
    "dist=norm(mean,std)\n",
    "\n",
    "# finding pdf value for the defined range  (start_range and end_range)\n",
    "values = []\n",
    "for value in range(start_range, end_range):\n",
    "    values.append(value)\n",
    "\n",
    "probabilities = []\n",
    "for value in values:\n",
    "    probabilities.append(dist.pdf(value))\n",
    "\n",
    "# Sum the probabilities to find the area under the curve between the range\n",
    "prob = sum(probabilities)\n",
    "print(\"The area between range ({},{}):{}\".format(start_range,end_range,sum(probabilities)))\n"
   ]
  },
  {
   "cell_type": "code",
   "execution_count": 6,
   "id": "05cbe544-bb23-4dc4-973e-3905940257cc",
   "metadata": {},
   "outputs": [
    {
     "name": "stdout",
     "output_type": "stream",
     "text": [
      "The area between range (40,45):0.012462382277261137\n"
     ]
    },
    {
     "name": "stderr",
     "output_type": "stream",
     "text": [
      "/var/folders/1s/70xy4dvs6mn0zqfz6nvhbypw0000gn/T/ipykernel_1410/1937634830.py:6: UserWarning: \n",
      "\n",
      "`distplot` is a deprecated function and will be removed in seaborn v0.14.0.\n",
      "\n",
      "Please adapt your code to use either `displot` (a figure-level function with\n",
      "similar flexibility) or `histplot` (an axes-level function for histograms).\n",
      "\n",
      "For a guide to updating your code to use the new functions, please see\n",
      "https://gist.github.com/mwaskom/de44147ed2974457ad6372750bbe5751\n",
      "\n",
      "  sns.distplot(dataset[\"ssc_p\"],kde=True,kde_kws={\"color\":\"blue\"},color='green')\n"
     ]
    },
    {
     "data": {
      "image/png": "[encoded data removed]",
      "text/plain": [
       "<Figure size 640x480 with 1 Axes>"
      ]
     },
     "metadata": {},
     "output_type": "display_data"
    }
   ],
   "source": [
    "# normal Distribution calculation  using inline for loop\n",
    "\n",
    "import seaborn as sns\n",
    "from scipy.stats import norm\n",
    "#sns.distplot(dataset[\"ssc_p\"])\n",
    "sns.distplot(dataset[\"ssc_p\"],kde=True,kde_kws={\"color\":\"blue\"},color='green')\n",
    "start_range=40\n",
    "end_range=45\n",
    "plot.axvline(start_range,color=\"red\")\n",
    "plot.axvline(end_range,color=\"red\")\n",
    "\n",
    "# calculate the parameter Normal distribution....\n",
    "mean=dataset[\"ssc_p\"].mean()\n",
    "std=dataset[\"ssc_p\"].std()\n",
    "dist=norm(mean,std)\n",
    "\n",
    "# finding pdf value for the defined range  (start_range and end_range) using inline for loop\n",
    "values=[value for value in range(start_range,end_range)]\n",
    "probabilities=[dist.pdf(value) for value in values]\n",
    "\n",
    "prob=sum(probabilities)\n",
    "\n",
    "# Sum the probabilities to find the area under the curve between the range\n",
    "prob = sum(probabilities)\n",
    "print(\"The area between range ({},{}):{}\".format(start_range,end_range,sum(probabilities)))\n"
   ]
  },
  {
   "cell_type": "code",
   "execution_count": 7,
   "id": "67cb45cf-1edf-4988-886c-2cbe3cb0576d",
   "metadata": {},
   "outputs": [],
   "source": [
    "def pdf_probability(dataset,start_range,end_range):\n",
    "    # normal Distribution calculation  using inline for loop\n",
    "    \n",
    "    import seaborn as sns\n",
    "    from scipy.stats import norm\n",
    "    #sns.distplot(dataset[\"ssc_p\"])\n",
    "    sns.distplot(dataset[\"ssc_p\"],kde=True,kde_kws={\"color\":\"blue\"},color='green')\n",
    "    start_range=40\n",
    "    end_range=45\n",
    "    plot.axvline(start_range,color=\"red\")\n",
    "    plot.axvline(end_range,color=\"red\")\n",
    "    \n",
    "    # calculate the parameter Normal distribution....\n",
    "    mean=dataset[\"ssc_p\"].mean()\n",
    "    std=dataset[\"ssc_p\"].std()\n",
    "    dist=norm(mean,std)\n",
    "    \n",
    "    # finding pdf value for the defined range  (start_range and end_range) using inline for loop\n",
    "    values=[value for value in range(start_range,end_range)]\n",
    "    probabilities=[dist.pdf(value) for value in values]\n",
    "    \n",
    "    prob=sum(probabilities)\n",
    "\n",
    "    # Sum the probabilities to find the area under the curve between the range\n",
    "    prob = sum(probabilities)\n",
    "    print(\"The area between range ({},{}):{}\".format(start_range,end_range,sum(probabilities)))\n"
   ]
  },
  {
   "cell_type": "code",
   "execution_count": 8,
   "id": "a405774e-7cd2-4137-b4de-d3a2fe57db0b",
   "metadata": {},
   "outputs": [
    {
     "name": "stderr",
     "output_type": "stream",
     "text": [
      "/var/folders/1s/70xy4dvs6mn0zqfz6nvhbypw0000gn/T/ipykernel_1410/3502435879.py:7: UserWarning: \n",
      "\n",
      "`distplot` is a deprecated function and will be removed in seaborn v0.14.0.\n",
      "\n",
      "Please adapt your code to use either `displot` (a figure-level function with\n",
      "similar flexibility) or `histplot` (an axes-level function for histograms).\n",
      "\n",
      "For a guide to updating your code to use the new functions, please see\n",
      "https://gist.github.com/mwaskom/de44147ed2974457ad6372750bbe5751\n",
      "\n",
      "  sns.distplot(dataset[\"ssc_p\"],kde=True,kde_kws={\"color\":\"blue\"},color='green')\n"
     ]
    },
    {
     "name": "stdout",
     "output_type": "stream",
     "text": [
      "The area between range (40,45):0.012462382277261137\n"
     ]
    },
    {
     "data": {
      "image/png": "[encoded data removed]",
      "text/plain": [
       "<Figure size 640x480 with 1 Axes>"
      ]
     },
     "metadata": {},
     "output_type": "display_data"
    }
   ],
   "source": [
    "pdf_probability(dataset,40,40)"
   ]
  },
  {
   "cell_type": "code",
   "execution_count": 9,
   "id": "acb0851c-5dd6-4581-930b-6c9932ebde71",
   "metadata": {},
   "outputs": [],
   "source": [
    "# Cumulative Distribution"
   ]
  },
  {
   "cell_type": "code",
   "execution_count": 10,
   "id": "330c9ae3-4712-4ecd-a23c-7790c00e093e",
   "metadata": {},
   "outputs": [
    {
     "data": {
      "text/plain": [
       "np.float64(0.023255813953488372)"
      ]
     },
     "execution_count": 10,
     "metadata": {},
     "output_type": "execute_result"
    }
   ],
   "source": [
    "from statsmodels.distributions.empirical_distribution import ECDF\n",
    "ECDF=ECDF(dataset[\"ssc_p\"])\n",
    "ECDF(45)"
   ]
  },
  {
   "cell_type": "code",
   "execution_count": 11,
   "id": "793d7957-cad8-44d5-aa39-95fb42efc319",
   "metadata": {},
   "outputs": [],
   "source": [
    "#!pip install statsmodels"
   ]
  },
  {
   "cell_type": "code",
   "execution_count": null,
   "id": "69774854-3ff5-4efa-aff8-27aa7ed17e3e",
   "metadata": {},
   "outputs": [],
   "source": []
  }
 ],
 "metadata": {
  "kernelspec": {
   "display_name": "Python 3 (ipykernel)",
   "language": "python",
   "name": "python3"
  },
  "language_info": {
   "codemirror_mode": {
    "name": "ipython",
    "version": 3
   },
   "file_extension": ".py",
   "mimetype": "text/x-python",
   "name": "python",
   "nbconvert_exporter": "python",
   "pygments_lexer": "ipython3",
   "version": "3.10.14"
  }
 },
 "nbformat": 4,
 "nbformat_minor": 5
}
