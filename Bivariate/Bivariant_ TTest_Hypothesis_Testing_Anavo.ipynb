{
 "cells": [
  {
   "cell_type": "code",
   "execution_count": 25,
   "id": "0c568411-5305-4caf-ad06-83f1b0191cd5",
   "metadata": {},
   "outputs": [],
   "source": [
    "import pandas as pd"
   ]
  },
  {
   "cell_type": "code",
   "execution_count": 26,
   "id": "0d87ac26-4a0f-4d9f-9887-d505732afa33",
   "metadata": {},
   "outputs": [],
   "source": [
    "dataset=pd.read_csv(\"pre_placement.csv\")"
   ]
  },
  {
   "cell_type": "code",
   "execution_count": 27,
   "id": "d680e04d-e8b9-40c9-8392-f32de440efb3",
   "metadata": {},
   "outputs": [
    {
     "data": {
      "text/plain": [
       "sl_no             0\n",
       "ssc_p             0\n",
       "hsc_p             0\n",
       "degree_p          0\n",
       "etest_p           0\n",
       "mba_p             0\n",
       "salary            0\n",
       "gender            0\n",
       "ssc_b             0\n",
       "hsc_b             0\n",
       "hsc_s             0\n",
       "degree_t          0\n",
       "workex            0\n",
       "specialisation    0\n",
       "status            0\n",
       "dtype: int64"
      ]
     },
     "execution_count": 27,
     "metadata": {},
     "output_type": "execute_result"
    }
   ],
   "source": [
    "dataset.isnull().sum()"
   ]
  },
  {
   "cell_type": "code",
   "execution_count": 28,
   "id": "eea94e9a-9457-431b-a579-466ab2bcd38a",
   "metadata": {},
   "outputs": [
    {
     "data": {
      "text/html": [
       "<div>\n",
       "<style scoped>\n",
       "    .dataframe tbody tr th:only-of-type {\n",
       "        vertical-align: middle;\n",
       "    }\n",
       "\n",
       "    .dataframe tbody tr th {\n",
       "        vertical-align: top;\n",
       "    }\n",
       "\n",
       "    .dataframe thead th {\n",
       "        text-align: right;\n",
       "    }\n",
       "</style>\n",
       "<table border=\"1\" class=\"dataframe\">\n",
       "  <thead>\n",
       "    <tr style=\"text-align: right;\">\n",
       "      <th></th>\n",
       "      <th>sl_no</th>\n",
       "      <th>ssc_p</th>\n",
       "      <th>hsc_p</th>\n",
       "      <th>degree_p</th>\n",
       "      <th>etest_p</th>\n",
       "      <th>mba_p</th>\n",
       "      <th>salary</th>\n",
       "      <th>gender</th>\n",
       "      <th>ssc_b</th>\n",
       "      <th>hsc_b</th>\n",
       "      <th>hsc_s</th>\n",
       "      <th>degree_t</th>\n",
       "      <th>workex</th>\n",
       "      <th>specialisation</th>\n",
       "      <th>status</th>\n",
       "    </tr>\n",
       "  </thead>\n",
       "  <tbody>\n",
       "    <tr>\n",
       "      <th>0</th>\n",
       "      <td>1.0</td>\n",
       "      <td>67.00</td>\n",
       "      <td>91.00</td>\n",
       "      <td>58.00</td>\n",
       "      <td>55.0</td>\n",
       "      <td>58.80</td>\n",
       "      <td>270000.000000</td>\n",
       "      <td>M</td>\n",
       "      <td>Others</td>\n",
       "      <td>Others</td>\n",
       "      <td>Commerce</td>\n",
       "      <td>Sci&amp;Tech</td>\n",
       "      <td>No</td>\n",
       "      <td>Mkt&amp;HR</td>\n",
       "      <td>Placed</td>\n",
       "    </tr>\n",
       "    <tr>\n",
       "      <th>1</th>\n",
       "      <td>2.0</td>\n",
       "      <td>79.33</td>\n",
       "      <td>78.33</td>\n",
       "      <td>77.48</td>\n",
       "      <td>86.5</td>\n",
       "      <td>66.28</td>\n",
       "      <td>200000.000000</td>\n",
       "      <td>M</td>\n",
       "      <td>Central</td>\n",
       "      <td>Others</td>\n",
       "      <td>Science</td>\n",
       "      <td>Sci&amp;Tech</td>\n",
       "      <td>Yes</td>\n",
       "      <td>Mkt&amp;Fin</td>\n",
       "      <td>Placed</td>\n",
       "    </tr>\n",
       "    <tr>\n",
       "      <th>2</th>\n",
       "      <td>3.0</td>\n",
       "      <td>65.00</td>\n",
       "      <td>68.00</td>\n",
       "      <td>64.00</td>\n",
       "      <td>75.0</td>\n",
       "      <td>57.80</td>\n",
       "      <td>250000.000000</td>\n",
       "      <td>M</td>\n",
       "      <td>Central</td>\n",
       "      <td>Central</td>\n",
       "      <td>Arts</td>\n",
       "      <td>Comm&amp;Mgmt</td>\n",
       "      <td>No</td>\n",
       "      <td>Mkt&amp;Fin</td>\n",
       "      <td>Placed</td>\n",
       "    </tr>\n",
       "    <tr>\n",
       "      <th>3</th>\n",
       "      <td>4.0</td>\n",
       "      <td>56.00</td>\n",
       "      <td>52.00</td>\n",
       "      <td>52.00</td>\n",
       "      <td>66.0</td>\n",
       "      <td>59.43</td>\n",
       "      <td>288655.405405</td>\n",
       "      <td>M</td>\n",
       "      <td>Central</td>\n",
       "      <td>Central</td>\n",
       "      <td>Science</td>\n",
       "      <td>Sci&amp;Tech</td>\n",
       "      <td>No</td>\n",
       "      <td>Mkt&amp;HR</td>\n",
       "      <td>Not Placed</td>\n",
       "    </tr>\n",
       "    <tr>\n",
       "      <th>4</th>\n",
       "      <td>5.0</td>\n",
       "      <td>85.80</td>\n",
       "      <td>73.60</td>\n",
       "      <td>73.30</td>\n",
       "      <td>96.8</td>\n",
       "      <td>55.50</td>\n",
       "      <td>425000.000000</td>\n",
       "      <td>M</td>\n",
       "      <td>Central</td>\n",
       "      <td>Central</td>\n",
       "      <td>Commerce</td>\n",
       "      <td>Comm&amp;Mgmt</td>\n",
       "      <td>No</td>\n",
       "      <td>Mkt&amp;Fin</td>\n",
       "      <td>Placed</td>\n",
       "    </tr>\n",
       "    <tr>\n",
       "      <th>...</th>\n",
       "      <td>...</td>\n",
       "      <td>...</td>\n",
       "      <td>...</td>\n",
       "      <td>...</td>\n",
       "      <td>...</td>\n",
       "      <td>...</td>\n",
       "      <td>...</td>\n",
       "      <td>...</td>\n",
       "      <td>...</td>\n",
       "      <td>...</td>\n",
       "      <td>...</td>\n",
       "      <td>...</td>\n",
       "      <td>...</td>\n",
       "      <td>...</td>\n",
       "      <td>...</td>\n",
       "    </tr>\n",
       "    <tr>\n",
       "      <th>210</th>\n",
       "      <td>211.0</td>\n",
       "      <td>80.60</td>\n",
       "      <td>82.00</td>\n",
       "      <td>77.60</td>\n",
       "      <td>91.0</td>\n",
       "      <td>74.49</td>\n",
       "      <td>400000.000000</td>\n",
       "      <td>M</td>\n",
       "      <td>Others</td>\n",
       "      <td>Others</td>\n",
       "      <td>Commerce</td>\n",
       "      <td>Comm&amp;Mgmt</td>\n",
       "      <td>No</td>\n",
       "      <td>Mkt&amp;Fin</td>\n",
       "      <td>Placed</td>\n",
       "    </tr>\n",
       "    <tr>\n",
       "      <th>211</th>\n",
       "      <td>212.0</td>\n",
       "      <td>58.00</td>\n",
       "      <td>60.00</td>\n",
       "      <td>72.00</td>\n",
       "      <td>74.0</td>\n",
       "      <td>53.62</td>\n",
       "      <td>275000.000000</td>\n",
       "      <td>M</td>\n",
       "      <td>Others</td>\n",
       "      <td>Others</td>\n",
       "      <td>Science</td>\n",
       "      <td>Sci&amp;Tech</td>\n",
       "      <td>No</td>\n",
       "      <td>Mkt&amp;Fin</td>\n",
       "      <td>Placed</td>\n",
       "    </tr>\n",
       "    <tr>\n",
       "      <th>212</th>\n",
       "      <td>213.0</td>\n",
       "      <td>67.00</td>\n",
       "      <td>67.00</td>\n",
       "      <td>73.00</td>\n",
       "      <td>59.0</td>\n",
       "      <td>69.72</td>\n",
       "      <td>295000.000000</td>\n",
       "      <td>M</td>\n",
       "      <td>Others</td>\n",
       "      <td>Others</td>\n",
       "      <td>Commerce</td>\n",
       "      <td>Comm&amp;Mgmt</td>\n",
       "      <td>Yes</td>\n",
       "      <td>Mkt&amp;Fin</td>\n",
       "      <td>Placed</td>\n",
       "    </tr>\n",
       "    <tr>\n",
       "      <th>213</th>\n",
       "      <td>214.0</td>\n",
       "      <td>74.00</td>\n",
       "      <td>66.00</td>\n",
       "      <td>58.00</td>\n",
       "      <td>70.0</td>\n",
       "      <td>60.23</td>\n",
       "      <td>204000.000000</td>\n",
       "      <td>F</td>\n",
       "      <td>Others</td>\n",
       "      <td>Others</td>\n",
       "      <td>Commerce</td>\n",
       "      <td>Comm&amp;Mgmt</td>\n",
       "      <td>No</td>\n",
       "      <td>Mkt&amp;HR</td>\n",
       "      <td>Placed</td>\n",
       "    </tr>\n",
       "    <tr>\n",
       "      <th>214</th>\n",
       "      <td>215.0</td>\n",
       "      <td>62.00</td>\n",
       "      <td>58.00</td>\n",
       "      <td>53.00</td>\n",
       "      <td>89.0</td>\n",
       "      <td>60.22</td>\n",
       "      <td>288655.405405</td>\n",
       "      <td>M</td>\n",
       "      <td>Central</td>\n",
       "      <td>Others</td>\n",
       "      <td>Science</td>\n",
       "      <td>Comm&amp;Mgmt</td>\n",
       "      <td>No</td>\n",
       "      <td>Mkt&amp;HR</td>\n",
       "      <td>Not Placed</td>\n",
       "    </tr>\n",
       "  </tbody>\n",
       "</table>\n",
       "<p>215 rows × 15 columns</p>\n",
       "</div>"
      ],
      "text/plain": [
       "     sl_no  ssc_p  hsc_p  degree_p  etest_p  mba_p         salary gender  \\\n",
       "0      1.0  67.00  91.00     58.00     55.0  58.80  270000.000000      M   \n",
       "1      2.0  79.33  78.33     77.48     86.5  66.28  200000.000000      M   \n",
       "2      3.0  65.00  68.00     64.00     75.0  57.80  250000.000000      M   \n",
       "3      4.0  56.00  52.00     52.00     66.0  59.43  288655.405405      M   \n",
       "4      5.0  85.80  73.60     73.30     96.8  55.50  425000.000000      M   \n",
       "..     ...    ...    ...       ...      ...    ...            ...    ...   \n",
       "210  211.0  80.60  82.00     77.60     91.0  74.49  400000.000000      M   \n",
       "211  212.0  58.00  60.00     72.00     74.0  53.62  275000.000000      M   \n",
       "212  213.0  67.00  67.00     73.00     59.0  69.72  295000.000000      M   \n",
       "213  214.0  74.00  66.00     58.00     70.0  60.23  204000.000000      F   \n",
       "214  215.0  62.00  58.00     53.00     89.0  60.22  288655.405405      M   \n",
       "\n",
       "       ssc_b    hsc_b     hsc_s   degree_t workex specialisation      status  \n",
       "0     Others   Others  Commerce   Sci&Tech     No         Mkt&HR      Placed  \n",
       "1    Central   Others   Science   Sci&Tech    Yes        Mkt&Fin      Placed  \n",
       "2    Central  Central      Arts  Comm&Mgmt     No        Mkt&Fin      Placed  \n",
       "3    Central  Central   Science   Sci&Tech     No         Mkt&HR  Not Placed  \n",
       "4    Central  Central  Commerce  Comm&Mgmt     No        Mkt&Fin      Placed  \n",
       "..       ...      ...       ...        ...    ...            ...         ...  \n",
       "210   Others   Others  Commerce  Comm&Mgmt     No        Mkt&Fin      Placed  \n",
       "211   Others   Others   Science   Sci&Tech     No        Mkt&Fin      Placed  \n",
       "212   Others   Others  Commerce  Comm&Mgmt    Yes        Mkt&Fin      Placed  \n",
       "213   Others   Others  Commerce  Comm&Mgmt     No         Mkt&HR      Placed  \n",
       "214  Central   Others   Science  Comm&Mgmt     No         Mkt&HR  Not Placed  \n",
       "\n",
       "[215 rows x 15 columns]"
      ]
     },
     "execution_count": 28,
     "metadata": {},
     "output_type": "execute_result"
    }
   ],
   "source": [
    "dataset"
   ]
  },
  {
   "cell_type": "markdown",
   "id": "9f4830c7-dea8-4758-86f1-0f3e9b4148ae",
   "metadata": {},
   "source": [
    "# Independent Unpaired TTest\n",
    "## groups should be categorical and Conditions should be in Numeric\n",
    "\n",
    "### Different groups(male, female) same condition (salary)"
   ]
  },
  {
   "cell_type": "code",
   "execution_count": 29,
   "id": "57a6a8d0-3780-4061-b564-92714f8790b5",
   "metadata": {},
   "outputs": [
    {
     "data": {
      "text/plain": [
       "0      270000.000000\n",
       "1      200000.000000\n",
       "2      250000.000000\n",
       "3      288655.405405\n",
       "4      425000.000000\n",
       "           ...      \n",
       "209    216000.000000\n",
       "210    400000.000000\n",
       "211    275000.000000\n",
       "212    295000.000000\n",
       "214    288655.405405\n",
       "Name: salary, Length: 139, dtype: float64"
      ]
     },
     "execution_count": 29,
     "metadata": {},
     "output_type": "execute_result"
    }
   ],
   "source": [
    "#dataset[\"gender\"]=='M' \n",
    "#dataset[dataset[\"gender\"]=='M']\n",
    "dataset[dataset[\"gender\"]=='M'][\"salary\"]"
   ]
  },
  {
   "cell_type": "code",
   "execution_count": 30,
   "id": "74138c8b-9f30-41b0-b603-ba2047eb5f6b",
   "metadata": {},
   "outputs": [
    {
     "data": {
      "text/plain": [
       "TtestResult(statistic=np.float64(1.9001627265152634), pvalue=np.float64(0.05876239427122641), df=np.float64(213.0))"
      ]
     },
     "execution_count": 30,
     "metadata": {},
     "output_type": "execute_result"
    }
   ],
   "source": [
    "from scipy.stats import ttest_ind\n",
    "\n",
    "male=dataset[dataset[\"gender\"]=='M']['salary']\n",
    "female=dataset[dataset[\"gender\"]=='F']['salary']\n",
    "\n",
    "#male,female\n",
    "ttest_ind(male,female)"
   ]
  },
  {
   "cell_type": "code",
   "execution_count": 31,
   "id": "723becf3-7c03-48ca-bdd9-9f916ab87e11",
   "metadata": {},
   "outputs": [],
   "source": [
    "#dataset[dataset['ssc_b']==\"Others\"]\n",
    "#dataset[dataset[\"ssc_b\"]==\"Central\"]"
   ]
  },
  {
   "cell_type": "code",
   "execution_count": 32,
   "id": "73ea2eed-ab0e-4e98-b9e7-0a385583ce95",
   "metadata": {},
   "outputs": [
    {
     "data": {
      "text/plain": [
       "TtestResult(statistic=np.float64(0.06718399145137142), pvalue=np.float64(0.9464982502258081), df=np.float64(213.0))"
      ]
     },
     "execution_count": 32,
     "metadata": {},
     "output_type": "execute_result"
    }
   ],
   "source": [
    "### groups should be categorical and Conditions should be in Numeric\n",
    "#different grouops(others,central), same condition (salary)\n",
    "\n",
    "from scipy.stats import ttest_ind\n",
    "sscb_others_salary=dataset[dataset['ssc_b']==\"Others\"]['salary']\n",
    "sscb_central_salary=dataset[dataset[\"ssc_b\"]==\"Central\"][\"salary\"]\n",
    "ttest_ind(sscb_others_salary,sscb_central_salary)"
   ]
  },
  {
   "cell_type": "markdown",
   "id": "5ba669c7-d3c0-4298-9353-95b018ce3971",
   "metadata": {},
   "source": [
    "# Dependent Paired T-test\n",
    "## same group (Male) but Different Conditions (ssc_p,hsc_p)"
   ]
  },
  {
   "cell_type": "code",
   "execution_count": 33,
   "id": "07bbf8bc-e21b-402c-bbf0-c0f21a66a43b",
   "metadata": {},
   "outputs": [
    {
     "data": {
      "text/plain": [
       "TtestResult(statistic=np.float64(0.462536606114424), pvalue=np.float64(0.6440609938866582), df=np.float64(276.0))"
      ]
     },
     "execution_count": 33,
     "metadata": {},
     "output_type": "execute_result"
    }
   ],
   "source": [
    "#same group (Male) but Different Conditions (ssc_p,hsc_p)\n",
    "\n",
    "from scipy.stats import ttest_ind\n",
    "\n",
    "ssc_p_male=dataset[dataset[\"gender\"]==\"M\"]['ssc_p']\n",
    "hsc_p_male=dataset[dataset[\"gender\"]==\"M\"]['hsc_p']\n",
    "\n",
    "ttest_ind(ssc_p_male,hsc_p_male)\n"
   ]
  },
  {
   "cell_type": "code",
   "execution_count": 34,
   "id": "b5e64215-7f6e-4e8b-b8d6-4dd5db9a1604",
   "metadata": {},
   "outputs": [
    {
     "data": {
      "text/plain": [
       "TtestResult(statistic=np.float64(-7.079422262550767), pvalue=np.float64(1.844299454870846e-11), df=np.float64(224.0))"
      ]
     },
     "execution_count": 34,
     "metadata": {},
     "output_type": "execute_result"
    }
   ],
   "source": [
    "##same group(commerce)  diff condition(mba_p,etest_p)\n",
    "\n",
    "from scipy.stats import ttest_ind\n",
    "\n",
    "commerce_mba_pass=  dataset[dataset[\"hsc_s\"]==\"Commerce\"][\"mba_p\"]\n",
    "commerce_etest_pass=dataset[dataset[\"hsc_s\"]==\"Commerce\"][\"etest_p\"]\n",
    "\n",
    "ttest_ind(commerce_mba_pass,commerce_etest_pass)\n"
   ]
  },
  {
   "cell_type": "code",
   "execution_count": null,
   "id": "6360acb9-b2cc-4f78-b400-a89b408bf2c0",
   "metadata": {},
   "outputs": [],
   "source": []
  },
  {
   "cell_type": "markdown",
   "id": "cc9fff3a-4fe9-4daf-85e3-1e9d70e28efe",
   "metadata": {},
   "source": [
    "# Hypothesis Testing  #\n",
    "\n",
    "## Null Hypothesis ## \n",
    "## Alternate Hypothesis ##\n",
    "### Reject Null Hypothesis If P <.05 ###"
   ]
  },
  {
   "cell_type": "code",
   "execution_count": 35,
   "id": "57ebf7cc-219f-4614-88c0-8698a7ea032a",
   "metadata": {},
   "outputs": [],
   "source": [
    "## statement: if ssc_p,hsc_p of Male is same?"
   ]
  },
  {
   "cell_type": "code",
   "execution_count": 36,
   "id": "6a214f38-ac91-4981-bf82-bbbe7df1fad4",
   "metadata": {},
   "outputs": [
    {
     "data": {
      "text/plain": [
       "TtestResult(statistic=np.float64(0.462536606114424), pvalue=np.float64(0.6440609938866582), df=np.float64(276.0))"
      ]
     },
     "execution_count": 36,
     "metadata": {},
     "output_type": "execute_result"
    }
   ],
   "source": [
    "### T_Test\n",
    "from scipy.stats import ttest_ind\n",
    "\n",
    "ssc_p_male=dataset[dataset[\"gender\"]==\"M\"]['ssc_p']\n",
    "hsc_p_male=dataset[dataset[\"gender\"]==\"M\"]['hsc_p']\n",
    "\n",
    "ttest_ind(ssc_p_male,hsc_p_male)"
   ]
  },
  {
   "cell_type": "code",
   "execution_count": 37,
   "id": "75e64706-5167-4e17-afd4-7ee575972781",
   "metadata": {},
   "outputs": [],
   "source": [
    "##Conclusion: P value is not less than .05. So Accept Null hypothesis and Reject Alternate hypothesis.  ####\n",
    "\n",
    "### Null Hypothesis: There is no similarity between ssc_p of male and hsc_p of Male ####"
   ]
  },
  {
   "cell_type": "code",
   "execution_count": null,
   "id": "aa4475cc-4e5e-4a3b-b299-a9296ad3f136",
   "metadata": {},
   "outputs": [],
   "source": []
  },
  {
   "cell_type": "markdown",
   "id": "011123f8-7aaa-4acb-b09c-443bed854a8b",
   "metadata": {},
   "source": [
    "# Anavo: Analysis of Variance- \n",
    "## a statistical method to examine how a dependent variable changes as the value of a categorical independent variable changes...it serves the same purpose of T-Test\n",
    "\n",
    "### if p<0.05 Reject Null Hypothesis, accept Alternate Hypothesis\n",
    "#### otherwise Accept Null Hypothesis, Reject Alternate hypothesis\n",
    "\n"
   ]
  },
  {
   "cell_type": "code",
   "execution_count": 38,
   "id": "2dc3f62c-15b9-479f-b5e2-3981f98e2d5d",
   "metadata": {},
   "outputs": [
    {
     "data": {
      "text/plain": [
       "F_onewayResult(statistic=np.float64(0.6719700864663097), pvalue=np.float64(0.5110602818995302))"
      ]
     },
     "execution_count": 38,
     "metadata": {},
     "output_type": "execute_result"
    }
   ],
   "source": [
    "import scipy.stats as stats\n",
    "stats.f_oneway(dataset['ssc_p'],dataset['hsc_p'],dataset['degree_p'])"
   ]
  },
  {
   "cell_type": "code",
   "execution_count": 40,
   "id": "968e954d-c94a-43a2-8b55-11230d646f91",
   "metadata": {},
   "outputs": [],
   "source": [
    "#Statement: if ssc_p, hsc_p, degree_p are same? \n",
    "\n",
    "# H0- There is a No significance difference between ssc_p, hsc_p, degree_p\n",
    "# H1- There is a significance differnece between  ssc_p, hsc_p, degree_p\n",
    "\n",
    "# Justification: Since the p value is not less than <0.05, Accept Null Hypothesis Reject Alternate hypothesis"
   ]
  },
  {
   "cell_type": "code",
   "execution_count": null,
   "id": "03ccc8dc-f797-44f2-ba36-bedbb7a2fec4",
   "metadata": {},
   "outputs": [],
   "source": []
  }
 ],
 "metadata": {
  "kernelspec": {
   "display_name": "Python 3 (ipykernel)",
   "language": "python",
   "name": "python3"
  },
  "language_info": {
   "codemirror_mode": {
    "name": "ipython",
    "version": 3
   },
   "file_extension": ".py",
   "mimetype": "text/x-python",
   "name": "python",
   "nbconvert_exporter": "python",
   "pygments_lexer": "ipython3",
   "version": "3.10.14"
  }
 },
 "nbformat": 4,
 "nbformat_minor": 5
}
